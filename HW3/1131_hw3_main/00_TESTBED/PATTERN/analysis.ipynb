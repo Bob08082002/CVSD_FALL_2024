{
 "cells": [
  {
   "cell_type": "code",
   "execution_count": 20,
   "metadata": {},
   "outputs": [],
   "source": [
    "def annotate_lines(input_file, output_file):\n",
    "    x = 0\n",
    "    y = 0\n",
    "    depth = 32\n",
    "    conv_depth_list = []\n",
    "    median_list = []\n",
    "    sobel_list = []\n",
    "    with open(input_file, 'r') as infile, open(output_file, 'w') as outfile:\n",
    "        for line in infile:\n",
    "            line = line.strip()  # Remove trailing newline and spaces\n",
    "            if line == \"0001\":\n",
    "                if x != 6:\n",
    "                    x += 1\n",
    "                    outfile.write(f\"{line}\\n\")\n",
    "            elif line == \"0010\":\n",
    "                if x != 0:\n",
    "                    x -= 1\n",
    "                    outfile.write(f\"{line} \\n\")\n",
    "            elif line == \"0011\":\n",
    "                if y != 0:\n",
    "                    y -= 1\n",
    "                    outfile.write(f\"{line} \\n\")\n",
    "            elif line == \"0100\":\n",
    "                if y != 6:\n",
    "                    y += 1\n",
    "                    outfile.write(f\"{line}\\n\")\n",
    "            elif line == \"0101\":\n",
    "                if depth != 8:\n",
    "                    depth /= 2\n",
    "                    outfile.write(f\"{line} // reduce depth to {depth}\\n\")\n",
    "            elif line == \"0110\":\n",
    "                if depth != 32:\n",
    "                    depth *= 2\n",
    "                    outfile.write(f\"{line} // increase depth to {depth}\\n\")\n",
    "            elif line == \"1000\":\n",
    "                outfile.write(f\"{line} // --------- CONVOLUTION ---------// at ({x, y}), depth = {depth}\\n\")\n",
    "                conv_depth_list.append(depth)\n",
    "            elif line == \"1001\":\n",
    "                outfile.write(f\"{line} // Median at ({x, y})\\n\")\n",
    "                median_list.append((x, y))\n",
    "            elif line == \"1010\":\n",
    "                outfile.write(f\"{line} // Sobel at ({x, y})\\n\")\n",
    "                sobel_list.append((x, y))\n",
    "            else:\n",
    "                outfile.write(line + \"\\n\")\n",
    "    return conv_depth_list, median_list, sobel_list\n",
    "\n"
   ]
  },
  {
   "cell_type": "code",
   "execution_count": 21,
   "metadata": {},
   "outputs": [],
   "source": [
    "# Usage\n",
    "input_filename = \"opmode4.dat\"   # Replace with your input file path\n",
    "output_filename = \"output_op4.txt\"  # Replace with your desired output file path\n",
    "conv_depth_list, median_list, sobel_list = annotate_lines(input_filename, output_filename)"
   ]
  },
  {
   "cell_type": "code",
   "execution_count": 22,
   "metadata": {},
   "outputs": [
    {
     "name": "stdout",
     "output_type": "stream",
     "text": [
      "[32, 16.0, 16.0, 8.0, 32.0, 32.0, 32.0, 32.0, 32.0, 32.0, 32.0, 32.0, 16.0, 16.0, 32.0, 16.0, 32.0, 16.0, 32.0, 32.0, 32.0]\n",
      "total num of conv op: 21\n"
     ]
    }
   ],
   "source": [
    "print(conv_depth_list)\n",
    "print(\"total num of conv op:\", len(conv_depth_list))\n",
    "# 32 => 14\n",
    "# 16 => 6\n",
    "# 8 => 1"
   ]
  },
  {
   "cell_type": "code",
   "execution_count": 23,
   "metadata": {},
   "outputs": [
    {
     "name": "stdout",
     "output_type": "stream",
     "text": [
      "24\n"
     ]
    }
   ],
   "source": [
    "print(len(median_list))"
   ]
  },
  {
   "cell_type": "code",
   "execution_count": 24,
   "metadata": {},
   "outputs": [
    {
     "name": "stdout",
     "output_type": "stream",
     "text": [
      "15\n"
     ]
    }
   ],
   "source": [
    "print(len(sobel_list))"
   ]
  },
  {
   "cell_type": "code",
   "execution_count": null,
   "metadata": {},
   "outputs": [],
   "source": []
  },
  {
   "cell_type": "code",
   "execution_count": null,
   "metadata": {},
   "outputs": [],
   "source": []
  }
 ],
 "metadata": {
  "kernelspec": {
   "display_name": "Python 3",
   "language": "python",
   "name": "python3"
  },
  "language_info": {
   "codemirror_mode": {
    "name": "ipython",
    "version": 3
   },
   "file_extension": ".py",
   "mimetype": "text/x-python",
   "name": "python",
   "nbconvert_exporter": "python",
   "pygments_lexer": "ipython3",
   "version": "undefined.undefined.undefined"
  }
 },
 "nbformat": 4,
 "nbformat_minor": 2
}
