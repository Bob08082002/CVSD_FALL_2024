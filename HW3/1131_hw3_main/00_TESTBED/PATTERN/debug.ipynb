{
 "cells": [
  {
   "cell_type": "code",
   "execution_count": 15,
   "metadata": {},
   "outputs": [
    {
     "name": "stdout",
     "output_type": "stream",
     "text": [
      "Feature map shape: (8, 8, 32)\n"
     ]
    }
   ],
   "source": [
    "import numpy as np\n",
    "\n",
    "# Load the binary data from the text file\n",
    "with open('indata0.dat', 'r') as f:\n",
    "    binary_data = f.read().splitlines()  # Read all lines and strip newlines\n",
    "\n",
    "# Convert each binary string to an unsigned 8-bit integer\n",
    "integer_data = [int(b, 2) for b in binary_data]\n",
    "\n",
    "feature_map = np.zeros((8, 8, 32))\n",
    "\n",
    "index = 0\n",
    "for c in range(32):\n",
    "    for h in range(8):\n",
    "        for w in range(8):\n",
    "            feature_map[h][w][c] = integer_data[index]\n",
    "            index += 1\n",
    "\n",
    "\n",
    "print(\"Feature map shape:\", feature_map.shape)\n",
    "\n",
    "\n"
   ]
  },
  {
   "cell_type": "code",
   "execution_count": 22,
   "metadata": {},
   "outputs": [
    {
     "name": "stdout",
     "output_type": "stream",
     "text": [
      "4963.0\n",
      "4546.0\n",
      "4021.0\n",
      "3967.0\n",
      "3965.0\n",
      "4236.0\n",
      "4182.0\n",
      "3958.0\n",
      "4452.0\n"
     ]
    }
   ],
   "source": [
    "index_x5 = 0\n",
    "index_y5 = 0\n",
    "sum5 = 0\n",
    "index_x6 = 1\n",
    "index_y6 = 0\n",
    "sum6 = 0\n",
    "index_x7 = 2\n",
    "index_y7 = 0\n",
    "sum7 = 0\n",
    "index_x9 = 0\n",
    "index_y9 = 1\n",
    "sum9 = 0\n",
    "index_x10 = 1\n",
    "index_y10 = 1\n",
    "sum10 = 0\n",
    "index_x11 = 2\n",
    "index_y11 = 1\n",
    "sum11 = 0\n",
    "index_x13 = 0\n",
    "index_y13 = 2\n",
    "sum13 = 0\n",
    "index_x14 = 1\n",
    "index_y14 = 2\n",
    "sum14 = 0\n",
    "index_x15 = 2\n",
    "index_y15 = 2\n",
    "sum15 = 0\n",
    "for i in range(32):\n",
    "    sum5 +=  feature_map[index_y5][index_x5][i]\n",
    "    sum6 +=  feature_map[index_y6][index_x6][i]\n",
    "    sum7 +=  feature_map[index_y7][index_x7][i]\n",
    "    sum9 +=  feature_map[index_y9][index_x9][i]\n",
    "    sum10 += feature_map[index_y10][index_x10][i]\n",
    "    sum11 += feature_map[index_y11][index_x11][i]\n",
    "    sum13 += feature_map[index_y13][index_x13][i]\n",
    "    sum14 += feature_map[index_y14][index_x14][i]\n",
    "    sum15 += feature_map[index_y15][index_x15][i]\n",
    "    \n",
    "print(sum5 )\n",
    "print(sum6 )\n",
    "print(sum7 )\n",
    "print(sum9 )\n",
    "print(sum10)\n",
    "print(sum11)\n",
    "print(sum13)\n",
    "print(sum14)\n",
    "print(sum15)  "
   ]
  },
  {
   "cell_type": "code",
   "execution_count": 27,
   "metadata": {},
   "outputs": [
    {
     "name": "stdout",
     "output_type": "stream",
     "text": [
      "310.1875 878.4375 1129.75 1625.625 2616.875 3146.375 3407.75 3902.5 4180.75\n"
     ]
    }
   ],
   "source": [
    "conv_r0_1 = sum5/16\n",
    "conv_r0_2 = conv_r0_1 + sum6/8\n",
    "conv_r0_3 = conv_r0_2 + sum7/16\n",
    "conv_r0_4 = conv_r0_3 + sum9/8\n",
    "conv_r0_5 = conv_r0_4 + sum10/4\n",
    "conv_r0_6 = conv_r0_5 + sum11/8\n",
    "conv_r0_7 = conv_r0_6 + sum13/16\n",
    "conv_r0_8 = conv_r0_7 + sum14/8\n",
    "conv_r0_9 = conv_r0_8 + sum15/16\n",
    "print(conv_r0_1, conv_r0_2, conv_r0_3, conv_r0_4, conv_r0_5, conv_r0_6, conv_r0_7, conv_r0_8, conv_r0_9)"
   ]
  },
  {
   "cell_type": "code",
   "execution_count": null,
   "metadata": {},
   "outputs": [],
   "source": []
  }
 ],
 "metadata": {
  "kernelspec": {
   "display_name": "Python 3",
   "language": "python",
   "name": "python3"
  },
  "language_info": {
   "codemirror_mode": {
    "name": "ipython",
    "version": 3
   },
   "file_extension": ".py",
   "mimetype": "text/x-python",
   "name": "python",
   "nbconvert_exporter": "python",
   "pygments_lexer": "ipython3",
   "version": "3.10.6"
  }
 },
 "nbformat": 4,
 "nbformat_minor": 2
}
